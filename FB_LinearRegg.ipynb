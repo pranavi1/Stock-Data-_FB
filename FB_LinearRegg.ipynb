{
 "cells": [
  {
   "cell_type": "markdown",
   "metadata": {},
   "source": [
    "## Importing required packages "
   ]
  },
  {
   "cell_type": "code",
   "execution_count": 3,
   "metadata": {},
   "outputs": [
    {
     "name": "stderr",
     "output_type": "stream",
     "text": [
      "C:\\Users\\pranavi\\Anaconda3\\lib\\site-packages\\h5py\\__init__.py:36: FutureWarning: Conversion of the second argument of issubdtype from `float` to `np.floating` is deprecated. In future, it will be treated as `np.float64 == np.dtype(float).type`.\n",
      "  from ._conv import register_converters as _register_converters\n",
      "Using TensorFlow backend.\n"
     ]
    }
   ],
   "source": [
    "import missingno, fancyimpute\n",
    "import pandas as pd\n",
    "import numpy as np\n",
    "from sklearn.preprocessing import Imputer\n",
    "import matplotlib.pyplot as plt\n",
    "from sklearn.model_selection import GridSearchCV,cross_val_score,train_test_split"
   ]
  },
  {
   "cell_type": "markdown",
   "metadata": {},
   "source": [
    "### import os\n",
    "os.getcwd()"
   ]
  },
  {
   "cell_type": "markdown",
   "metadata": {},
   "source": [
    "### Reading the data"
   ]
  },
  {
   "cell_type": "code",
   "execution_count": 83,
   "metadata": {},
   "outputs": [],
   "source": [
    "data=pd.read_csv(\"C:/Users/pranavi/Desktop/StockData/FB.csv\")"
   ]
  },
  {
   "cell_type": "markdown",
   "metadata": {},
   "source": [
    "### Data Frame "
   ]
  },
  {
   "cell_type": "code",
   "execution_count": 84,
   "metadata": {},
   "outputs": [
    {
     "data": {
      "text/html": [
       "<div>\n",
       "<style scoped>\n",
       "    .dataframe tbody tr th:only-of-type {\n",
       "        vertical-align: middle;\n",
       "    }\n",
       "\n",
       "    .dataframe tbody tr th {\n",
       "        vertical-align: top;\n",
       "    }\n",
       "\n",
       "    .dataframe thead th {\n",
       "        text-align: right;\n",
       "    }\n",
       "</style>\n",
       "<table border=\"1\" class=\"dataframe\">\n",
       "  <thead>\n",
       "    <tr style=\"text-align: right;\">\n",
       "      <th></th>\n",
       "      <th>Date</th>\n",
       "      <th>Open</th>\n",
       "      <th>High</th>\n",
       "      <th>Low</th>\n",
       "      <th>Close</th>\n",
       "      <th>Adj Close</th>\n",
       "      <th>Volume</th>\n",
       "    </tr>\n",
       "  </thead>\n",
       "  <tbody>\n",
       "    <tr>\n",
       "      <th>0</th>\n",
       "      <td>26-02-2018</td>\n",
       "      <td>184.580002</td>\n",
       "      <td>185.660004</td>\n",
       "      <td>183.220001</td>\n",
       "      <td>184.929993</td>\n",
       "      <td>184.929993</td>\n",
       "      <td>17599700</td>\n",
       "    </tr>\n",
       "    <tr>\n",
       "      <th>1</th>\n",
       "      <td>27-02-2018</td>\n",
       "      <td>184.449997</td>\n",
       "      <td>184.699997</td>\n",
       "      <td>181.460007</td>\n",
       "      <td>181.460007</td>\n",
       "      <td>181.460007</td>\n",
       "      <td>15849800</td>\n",
       "    </tr>\n",
       "    <tr>\n",
       "      <th>2</th>\n",
       "      <td>28-02-2018</td>\n",
       "      <td>182.300003</td>\n",
       "      <td>182.880005</td>\n",
       "      <td>178.139999</td>\n",
       "      <td>178.320007</td>\n",
       "      <td>178.320007</td>\n",
       "      <td>18783000</td>\n",
       "    </tr>\n",
       "    <tr>\n",
       "      <th>3</th>\n",
       "      <td>01-03-2018</td>\n",
       "      <td>179.009995</td>\n",
       "      <td>180.119995</td>\n",
       "      <td>174.410004</td>\n",
       "      <td>175.940002</td>\n",
       "      <td>175.940002</td>\n",
       "      <td>23201600</td>\n",
       "    </tr>\n",
       "  </tbody>\n",
       "</table>\n",
       "</div>"
      ],
      "text/plain": [
       "         Date        Open        High         Low       Close   Adj Close  \\\n",
       "0  26-02-2018  184.580002  185.660004  183.220001  184.929993  184.929993   \n",
       "1  27-02-2018  184.449997  184.699997  181.460007  181.460007  181.460007   \n",
       "2  28-02-2018  182.300003  182.880005  178.139999  178.320007  178.320007   \n",
       "3  01-03-2018  179.009995  180.119995  174.410004  175.940002  175.940002   \n",
       "\n",
       "     Volume  \n",
       "0  17599700  \n",
       "1  15849800  \n",
       "2  18783000  \n",
       "3  23201600  "
      ]
     },
     "execution_count": 84,
     "metadata": {},
     "output_type": "execute_result"
    }
   ],
   "source": [
    "data.head(4)"
   ]
  },
  {
   "cell_type": "markdown",
   "metadata": {},
   "source": [
    "### Shape of data"
   ]
  },
  {
   "cell_type": "code",
   "execution_count": 85,
   "metadata": {},
   "outputs": [
    {
     "data": {
      "text/plain": [
       "(252, 7)"
      ]
     },
     "execution_count": 85,
     "metadata": {},
     "output_type": "execute_result"
    }
   ],
   "source": [
    "data.shape"
   ]
  },
  {
   "cell_type": "markdown",
   "metadata": {},
   "source": [
    "### Datatypes in data"
   ]
  },
  {
   "cell_type": "code",
   "execution_count": 86,
   "metadata": {},
   "outputs": [
    {
     "data": {
      "text/plain": [
       "Date          object\n",
       "Open         float64\n",
       "High         float64\n",
       "Low          float64\n",
       "Close        float64\n",
       "Adj Close    float64\n",
       "Volume         int64\n",
       "dtype: object"
      ]
     },
     "execution_count": 86,
     "metadata": {},
     "output_type": "execute_result"
    }
   ],
   "source": [
    "data.dtypes"
   ]
  },
  {
   "cell_type": "markdown",
   "metadata": {},
   "source": [
    "## Missing valuse Analysis"
   ]
  },
  {
   "cell_type": "markdown",
   "metadata": {},
   "source": [
    "### Count of  missing values in each variable "
   ]
  },
  {
   "cell_type": "code",
   "execution_count": 121,
   "metadata": {},
   "outputs": [
    {
     "data": {
      "text/plain": [
       "High           0\n",
       "Low            0\n",
       "Adj Close      0\n",
       "Volume         0\n",
       "Profit/Loss    0\n",
       "dtype: int64"
      ]
     },
     "execution_count": 121,
     "metadata": {},
     "output_type": "execute_result"
    }
   ],
   "source": [
    "data.isna().sum()"
   ]
  },
  {
   "cell_type": "markdown",
   "metadata": {},
   "source": [
    "### Matrix plot of Missing values"
   ]
  },
  {
   "cell_type": "code",
   "execution_count": 87,
   "metadata": {},
   "outputs": [
    {
     "data": {
      "text/plain": [
       "<matplotlib.axes._subplots.AxesSubplot at 0x2c6f5dc24a8>"
      ]
     },
     "execution_count": 87,
     "metadata": {},
     "output_type": "execute_result"
    },
    {
     "data": {
      "image/png": "[encoded data removed]",
      "text/plain": [
       "<Figure size 1800x720 with 2 Axes>"
      ]
     },
     "metadata": {},
     "output_type": "display_data"
    }
   ],
   "source": [
    "missingno.matrix(data)"
   ]
  },
  {
   "cell_type": "markdown",
   "metadata": {},
   "source": [
    "### from the count and matrix plot it is clear that there are no missing value "
   ]
  },
  {
   "cell_type": "markdown",
   "metadata": {},
   "source": [
    "## Univariate Analysis"
   ]
  },
  {
   "cell_type": "markdown",
   "metadata": {},
   "source": [
    "### In univariate analysis we plot graphs for each variable and check the spread of data points as the data considered is completely numerical so we go with boxplot to understand the particular variables in the consider dataset  "
   ]
  },
  {
   "cell_type": "code",
   "execution_count": 88,
   "metadata": {},
   "outputs": [
    {
     "data": {
      "text/plain": [
       "{'whiskers': [<matplotlib.lines.Line2D at 0x2c6f5e4a780>,\n",
       "  <matplotlib.lines.Line2D at 0x2c6f5e4ac18>],\n",
       " 'caps': [<matplotlib.lines.Line2D at 0x2c6f5e55080>,\n",
       "  <matplotlib.lines.Line2D at 0x2c6f5e554a8>],\n",
       " 'boxes': [<matplotlib.lines.Line2D at 0x2c6f5e4a630>],\n",
       " 'medians': [<matplotlib.lines.Line2D at 0x2c6f5e558d0>],\n",
       " 'fliers': [<matplotlib.lines.Line2D at 0x2c6f5e55cf8>],\n",
       " 'means': []}"
      ]
     },
     "execution_count": 88,
     "metadata": {},
     "output_type": "execute_result"
    },
    {
     "data": {
      "image/png": "[encoded data removed]",
      "text/plain": [
       "<Figure size 432x288 with 1 Axes>"
      ]
     },
     "metadata": {},
     "output_type": "display_data"
    }
   ],
   "source": [
    "plt.boxplot(data['Volume'])"
   ]
  },
  {
   "cell_type": "markdown",
   "metadata": {},
   "source": [
    "### From the boxplot of Volume we see that there are many higher valuse which as shown as outliers and first and second quartiles the data points are very closely spread,more than 50% ofthe data is dense there are few high values which are considered as outliers  "
   ]
  },
  {
   "cell_type": "code",
   "execution_count": 114,
   "metadata": {},
   "outputs": [
    {
     "data": {
      "text/plain": [
       "{'whiskers': [<matplotlib.lines.Line2D at 0x2c6f606cb00>,\n",
       "  <matplotlib.lines.Line2D at 0x2c6f606cf98>],\n",
       " 'caps': [<matplotlib.lines.Line2D at 0x2c6f6075400>,\n",
       "  <matplotlib.lines.Line2D at 0x2c6f6075828>],\n",
       " 'boxes': [<matplotlib.lines.Line2D at 0x2c6f606c9b0>],\n",
       " 'medians': [<matplotlib.lines.Line2D at 0x2c6f6075c50>],\n",
       " 'fliers': [<matplotlib.lines.Line2D at 0x2c6f607f0b8>],\n",
       " 'means': []}"
      ]
     },
     "execution_count": 114,
     "metadata": {},
     "output_type": "execute_result"
    },
    {
     "data": {
      "image/png": "[encoded data removed]",
      "text/plain": [
       "<Figure size 432x288 with 1 Axes>"
      ]
     },
     "metadata": {},
     "output_type": "display_data"
    }
   ],
   "source": [
    "plt.boxplot(data['High'])"
   ]
  },
  {
   "cell_type": "code",
   "execution_count": 90,
   "metadata": {},
   "outputs": [
    {
     "data": {
      "text/plain": [
       "{'whiskers': [<matplotlib.lines.Line2D at 0x2c6f5eceac8>,\n",
       "  <matplotlib.lines.Line2D at 0x2c6f5ecef60>],\n",
       " 'caps': [<matplotlib.lines.Line2D at 0x2c6f5ed73c8>,\n",
       "  <matplotlib.lines.Line2D at 0x2c6f5ed77f0>],\n",
       " 'boxes': [<matplotlib.lines.Line2D at 0x2c6f5ece9b0>],\n",
       " 'medians': [<matplotlib.lines.Line2D at 0x2c6f5ed7c18>],\n",
       " 'fliers': [<matplotlib.lines.Line2D at 0x2c6f5ede080>],\n",
       " 'means': []}"
      ]
     },
     "execution_count": 90,
     "metadata": {},
     "output_type": "execute_result"
    },
    {
     "data": {
      "image/png": "[encoded data removed]",
      "text/plain": [
       "<Figure size 432x288 with 1 Axes>"
      ]
     },
     "metadata": {},
     "output_type": "display_data"
    }
   ],
   "source": [
    "plt.boxplot(data['Low'])"
   ]
  },
  {
   "cell_type": "code",
   "execution_count": 91,
   "metadata": {},
   "outputs": [
    {
     "data": {
      "text/plain": [
       "{'whiskers': [<matplotlib.lines.Line2D at 0x2c6f5f1cb38>,\n",
       "  <matplotlib.lines.Line2D at 0x2c6f5f1cfd0>],\n",
       " 'caps': [<matplotlib.lines.Line2D at 0x2c6f5f24438>,\n",
       "  <matplotlib.lines.Line2D at 0x2c6f5f24860>],\n",
       " 'boxes': [<matplotlib.lines.Line2D at 0x2c6f5f1c9e8>],\n",
       " 'medians': [<matplotlib.lines.Line2D at 0x2c6f5f24c88>],\n",
       " 'fliers': [<matplotlib.lines.Line2D at 0x2c6f5f2d0f0>],\n",
       " 'means': []}"
      ]
     },
     "execution_count": 91,
     "metadata": {},
     "output_type": "execute_result"
    },
    {
     "data": {
      "image/png": "[encoded data removed]",
      "text/plain": [
       "<Figure size 432x288 with 1 Axes>"
      ]
     },
     "metadata": {},
     "output_type": "display_data"
    }
   ],
   "source": [
    "plt.boxplot(data[\"Adj Close\" ])"
   ]
  },
  {
   "cell_type": "markdown",
   "metadata": {},
   "source": [
    "### The variables High Low Adj close have similar plots as they are dependent on each other "
   ]
  },
  {
   "cell_type": "code",
   "execution_count": 96,
   "metadata": {},
   "outputs": [
    {
     "data": {
      "text/plain": [
       "{'whiskers': [<matplotlib.lines.Line2D at 0x2c6f5f5d470>,\n",
       "  <matplotlib.lines.Line2D at 0x2c6f5f5d908>],\n",
       " 'caps': [<matplotlib.lines.Line2D at 0x2c6f5f5dd30>,\n",
       "  <matplotlib.lines.Line2D at 0x2c6f5f66198>],\n",
       " 'boxes': [<matplotlib.lines.Line2D at 0x2c6f5f5d320>],\n",
       " 'medians': [<matplotlib.lines.Line2D at 0x2c6f5f665c0>],\n",
       " 'fliers': [<matplotlib.lines.Line2D at 0x2c6f5f669e8>],\n",
       " 'means': []}"
      ]
     },
     "execution_count": 96,
     "metadata": {},
     "output_type": "execute_result"
    },
    {
     "data": {
      "image/png": "[encoded data removed]",
      "text/plain": [
       "<Figure size 432x288 with 1 Axes>"
      ]
     },
     "metadata": {},
     "output_type": "display_data"
    }
   ],
   "source": [
    "plt.boxplot(data[\"Profit/Loss\"])"
   ]
  },
  {
   "cell_type": "markdown",
   "metadata": {},
   "source": [
    "### 50% of the values lie btwn -2 and 2 lows and high values are very less in number and loosly spread few high and low values are taken out as outliers "
   ]
  },
  {
   "cell_type": "markdown",
   "metadata": {},
   "source": [
    "### Descerbing the variables "
   ]
  },
  {
   "cell_type": "code",
   "execution_count": 126,
   "metadata": {},
   "outputs": [
    {
     "data": {
      "text/html": [
       "<div>\n",
       "<style scoped>\n",
       "    .dataframe tbody tr th:only-of-type {\n",
       "        vertical-align: middle;\n",
       "    }\n",
       "\n",
       "    .dataframe tbody tr th {\n",
       "        vertical-align: top;\n",
       "    }\n",
       "\n",
       "    .dataframe thead th {\n",
       "        text-align: right;\n",
       "    }\n",
       "</style>\n",
       "<table border=\"1\" class=\"dataframe\">\n",
       "  <thead>\n",
       "    <tr style=\"text-align: right;\">\n",
       "      <th></th>\n",
       "      <th>High</th>\n",
       "      <th>Low</th>\n",
       "      <th>Adj Close</th>\n",
       "      <th>Volume</th>\n",
       "      <th>Profit/Loss</th>\n",
       "    </tr>\n",
       "  </thead>\n",
       "  <tbody>\n",
       "    <tr>\n",
       "      <th>count</th>\n",
       "      <td>252.000000</td>\n",
       "      <td>252.000000</td>\n",
       "      <td>252.000000</td>\n",
       "      <td>2.520000e+02</td>\n",
       "      <td>252.000000</td>\n",
       "    </tr>\n",
       "    <tr>\n",
       "      <th>mean</th>\n",
       "      <td>169.329008</td>\n",
       "      <td>165.087778</td>\n",
       "      <td>167.244841</td>\n",
       "      <td>2.693082e+07</td>\n",
       "      <td>0.095158</td>\n",
       "    </tr>\n",
       "    <tr>\n",
       "      <th>std</th>\n",
       "      <td>20.031558</td>\n",
       "      <td>20.641553</td>\n",
       "      <td>20.505810</td>\n",
       "      <td>1.913957e+07</td>\n",
       "      <td>2.754037</td>\n",
       "    </tr>\n",
       "    <tr>\n",
       "      <th>min</th>\n",
       "      <td>129.740005</td>\n",
       "      <td>123.019997</td>\n",
       "      <td>124.059998</td>\n",
       "      <td>1.096510e+07</td>\n",
       "      <td>-8.440002</td>\n",
       "    </tr>\n",
       "    <tr>\n",
       "      <th>25%</th>\n",
       "      <td>153.850003</td>\n",
       "      <td>148.960007</td>\n",
       "      <td>151.272503</td>\n",
       "      <td>1.716330e+07</td>\n",
       "      <td>-1.782497</td>\n",
       "    </tr>\n",
       "    <tr>\n",
       "      <th>50%</th>\n",
       "      <td>168.315002</td>\n",
       "      <td>163.750000</td>\n",
       "      <td>165.814994</td>\n",
       "      <td>2.150180e+07</td>\n",
       "      <td>0.195000</td>\n",
       "    </tr>\n",
       "    <tr>\n",
       "      <th>75%</th>\n",
       "      <td>184.205001</td>\n",
       "      <td>181.452500</td>\n",
       "      <td>182.782494</td>\n",
       "      <td>2.860205e+07</td>\n",
       "      <td>1.717507</td>\n",
       "    </tr>\n",
       "    <tr>\n",
       "      <th>max</th>\n",
       "      <td>218.619995</td>\n",
       "      <td>214.270004</td>\n",
       "      <td>217.500000</td>\n",
       "      <td>1.698037e+08</td>\n",
       "      <td>8.179993</td>\n",
       "    </tr>\n",
       "  </tbody>\n",
       "</table>\n",
       "</div>"
      ],
      "text/plain": [
       "             High         Low   Adj Close        Volume  Profit/Loss\n",
       "count  252.000000  252.000000  252.000000  2.520000e+02   252.000000\n",
       "mean   169.329008  165.087778  167.244841  2.693082e+07     0.095158\n",
       "std     20.031558   20.641553   20.505810  1.913957e+07     2.754037\n",
       "min    129.740005  123.019997  124.059998  1.096510e+07    -8.440002\n",
       "25%    153.850003  148.960007  151.272503  1.716330e+07    -1.782497\n",
       "50%    168.315002  163.750000  165.814994  2.150180e+07     0.195000\n",
       "75%    184.205001  181.452500  182.782494  2.860205e+07     1.717507\n",
       "max    218.619995  214.270004  217.500000  1.698037e+08     8.179993"
      ]
     },
     "execution_count": 126,
     "metadata": {},
     "output_type": "execute_result"
    }
   ],
   "source": [
    "data.describe()"
   ]
  },
  {
   "cell_type": "markdown",
   "metadata": {},
   "source": [
    "### This function gives the count, mean, minvalue, max value, stdeviation and quartiles ranges of all the variables in the dat "
   ]
  },
  {
   "cell_type": "markdown",
   "metadata": {},
   "source": [
    "### Adding an extra column to analyse data"
   ]
  },
  {
   "cell_type": "code",
   "execution_count": 94,
   "metadata": {},
   "outputs": [],
   "source": [
    "data[\"Profit/Loss\"]=data[\"Close\"]-data[\"Open\"]"
   ]
  },
  {
   "cell_type": "code",
   "execution_count": 95,
   "metadata": {},
   "outputs": [
    {
     "data": {
      "text/html": [
       "<div>\n",
       "<style scoped>\n",
       "    .dataframe tbody tr th:only-of-type {\n",
       "        vertical-align: middle;\n",
       "    }\n",
       "\n",
       "    .dataframe tbody tr th {\n",
       "        vertical-align: top;\n",
       "    }\n",
       "\n",
       "    .dataframe thead th {\n",
       "        text-align: right;\n",
       "    }\n",
       "</style>\n",
       "<table border=\"1\" class=\"dataframe\">\n",
       "  <thead>\n",
       "    <tr style=\"text-align: right;\">\n",
       "      <th></th>\n",
       "      <th>Date</th>\n",
       "      <th>Open</th>\n",
       "      <th>High</th>\n",
       "      <th>Low</th>\n",
       "      <th>Close</th>\n",
       "      <th>Adj Close</th>\n",
       "      <th>Volume</th>\n",
       "      <th>Profit/Loss</th>\n",
       "    </tr>\n",
       "  </thead>\n",
       "  <tbody>\n",
       "    <tr>\n",
       "      <th>0</th>\n",
       "      <td>26-02-2018</td>\n",
       "      <td>184.580002</td>\n",
       "      <td>185.660004</td>\n",
       "      <td>183.220001</td>\n",
       "      <td>184.929993</td>\n",
       "      <td>184.929993</td>\n",
       "      <td>17599700</td>\n",
       "      <td>0.349991</td>\n",
       "    </tr>\n",
       "    <tr>\n",
       "      <th>1</th>\n",
       "      <td>27-02-2018</td>\n",
       "      <td>184.449997</td>\n",
       "      <td>184.699997</td>\n",
       "      <td>181.460007</td>\n",
       "      <td>181.460007</td>\n",
       "      <td>181.460007</td>\n",
       "      <td>15849800</td>\n",
       "      <td>-2.989990</td>\n",
       "    </tr>\n",
       "    <tr>\n",
       "      <th>2</th>\n",
       "      <td>28-02-2018</td>\n",
       "      <td>182.300003</td>\n",
       "      <td>182.880005</td>\n",
       "      <td>178.139999</td>\n",
       "      <td>178.320007</td>\n",
       "      <td>178.320007</td>\n",
       "      <td>18783000</td>\n",
       "      <td>-3.979996</td>\n",
       "    </tr>\n",
       "  </tbody>\n",
       "</table>\n",
       "</div>"
      ],
      "text/plain": [
       "         Date        Open        High         Low       Close   Adj Close  \\\n",
       "0  26-02-2018  184.580002  185.660004  183.220001  184.929993  184.929993   \n",
       "1  27-02-2018  184.449997  184.699997  181.460007  181.460007  181.460007   \n",
       "2  28-02-2018  182.300003  182.880005  178.139999  178.320007  178.320007   \n",
       "\n",
       "     Volume  Profit/Loss  \n",
       "0  17599700     0.349991  \n",
       "1  15849800    -2.989990  \n",
       "2  18783000    -3.979996  "
      ]
     },
     "execution_count": 95,
     "metadata": {},
     "output_type": "execute_result"
    }
   ],
   "source": [
    "data.head(3)"
   ]
  },
  {
   "cell_type": "markdown",
   "metadata": {},
   "source": [
    "## Bivariate Analysis"
   ]
  },
  {
   "cell_type": "markdown",
   "metadata": {},
   "source": [
    "### As the data is continouse type , we compare the only independent variabel Volume with the rest of the variables"
   ]
  },
  {
   "cell_type": "code",
   "execution_count": 75,
   "metadata": {},
   "outputs": [
    {
     "data": {
      "text/plain": [
       "<matplotlib.collections.PathCollection at 0x2c6f5c85c50>"
      ]
     },
     "execution_count": 75,
     "metadata": {},
     "output_type": "execute_result"
    },
    {
     "data": {
      "image/png": "[encoded data removed]",
      "text/plain": [
       "<Figure size 432x288 with 1 Axes>"
      ]
     },
     "metadata": {},
     "output_type": "display_data"
    }
   ],
   "source": [
    "plt.scatter(data['Volume'],data['Profit/Loss'])"
   ]
  },
  {
   "cell_type": "markdown",
   "metadata": {},
   "source": [
    "### There relation is not taht strong between Volume and Profit/Loss variabel "
   ]
  },
  {
   "cell_type": "code",
   "execution_count": 78,
   "metadata": {},
   "outputs": [
    {
     "data": {
      "text/plain": [
       "<matplotlib.collections.PathCollection at 0x2c6f5cfdac8>"
      ]
     },
     "execution_count": 78,
     "metadata": {},
     "output_type": "execute_result"
    },
    {
     "data": {
      "image/png": "[encoded data removed]",
      "text/plain": [
       "<Figure size 432x288 with 1 Axes>"
      ]
     },
     "metadata": {},
     "output_type": "display_data"
    }
   ],
   "source": [
    "plt.scatter(data['High'],data['Low'])"
   ]
  },
  {
   "cell_type": "markdown",
   "metadata": {},
   "source": [
    "### The relation between High and Low is very Linear because as both are high linearly dependent on each other"
   ]
  },
  {
   "cell_type": "code",
   "execution_count": 81,
   "metadata": {},
   "outputs": [
    {
     "data": {
      "text/plain": [
       "<matplotlib.collections.PathCollection at 0x2c6f5d54470>"
      ]
     },
     "execution_count": 81,
     "metadata": {},
     "output_type": "execute_result"
    },
    {
     "data": {
      "image/png": "[encoded data removed]",
      "text/plain": [
       "<Figure size 432x288 with 1 Axes>"
      ]
     },
     "metadata": {},
     "output_type": "display_data"
    }
   ],
   "source": [
    "plt.scatter(data['Volume'],data['Adj Close'])"
   ]
  },
  {
   "cell_type": "code",
   "execution_count": 97,
   "metadata": {},
   "outputs": [
    {
     "data": {
      "text/plain": [
       "<matplotlib.collections.PathCollection at 0x2c6f5fa6978>"
      ]
     },
     "execution_count": 97,
     "metadata": {},
     "output_type": "execute_result"
    },
    {
     "data": {
      "image/png": "[encoded data removed]",
      "text/plain": [
       "<Figure size 432x288 with 1 Axes>"
      ]
     },
     "metadata": {},
     "output_type": "display_data"
    }
   ],
   "source": [
    "plt.scatter(data['Volume'],data['Close'])"
   ]
  },
  {
   "cell_type": "code",
   "execution_count": 99,
   "metadata": {},
   "outputs": [
    {
     "data": {
      "text/plain": [
       "<matplotlib.collections.PathCollection at 0x2c6f6009c88>"
      ]
     },
     "execution_count": 99,
     "metadata": {},
     "output_type": "execute_result"
    },
    {
     "data": {
      "image/png": "[encoded data removed]",
      "text/plain": [
       "<Figure size 432x288 with 1 Axes>"
      ]
     },
     "metadata": {},
     "output_type": "display_data"
    }
   ],
   "source": [
    "plt.scatter(data['Volume'],data['Open'])"
   ]
  },
  {
   "cell_type": "markdown",
   "metadata": {},
   "source": [
    "### The plots between rest of the variables is same as of volume and profit/loss as all the variables are dependent on each other "
   ]
  },
  {
   "cell_type": "markdown",
   "metadata": {},
   "source": [
    "## Correlation"
   ]
  },
  {
   "cell_type": "code",
   "execution_count": 125,
   "metadata": {},
   "outputs": [
    {
     "data": {
      "image/png": "[encoded data removed]",
      "text/plain": [
       "<Figure size 864x648 with 2 Axes>"
      ]
     },
     "metadata": {},
     "output_type": "display_data"
    }
   ],
   "source": [
    "import seaborn as sns\n",
    "corrmat=data.corr()\n",
    "f, ax=plt.subplots(figsize=(12, 9))\n",
    "sns.heatmap(corrmat);"
   ]
  },
  {
   "cell_type": "markdown",
   "metadata": {},
   "source": [
    "### The correlation matrix gives the relationship between the all the variables and we can see all the variables except Volume are strongly correlated with each other as it is a continouse and dependent variables"
   ]
  },
  {
   "cell_type": "markdown",
   "metadata": {},
   "source": [
    "## Feature Selection\n"
   ]
  },
  {
   "cell_type": "markdown",
   "metadata": {},
   "source": [
    "### The dataset considered is Time series analysis dataset when we are building a model for time series all the variables are nedded to be considered as each variable contributes equal lecel of importance in the process of building the model"
   ]
  },
  {
   "cell_type": "code",
   "execution_count": 101,
   "metadata": {},
   "outputs": [],
   "source": [
    "data=data.drop(columns=\"Date\")"
   ]
  },
  {
   "cell_type": "code",
   "execution_count": 100,
   "metadata": {},
   "outputs": [],
   "source": [
    "data=data.drop(columns=[\"Open\",\"Close\"])"
   ]
  },
  {
   "cell_type": "code",
   "execution_count": 102,
   "metadata": {},
   "outputs": [
    {
     "data": {
      "text/html": [
       "<div>\n",
       "<style scoped>\n",
       "    .dataframe tbody tr th:only-of-type {\n",
       "        vertical-align: middle;\n",
       "    }\n",
       "\n",
       "    .dataframe tbody tr th {\n",
       "        vertical-align: top;\n",
       "    }\n",
       "\n",
       "    .dataframe thead th {\n",
       "        text-align: right;\n",
       "    }\n",
       "</style>\n",
       "<table border=\"1\" class=\"dataframe\">\n",
       "  <thead>\n",
       "    <tr style=\"text-align: right;\">\n",
       "      <th></th>\n",
       "      <th>High</th>\n",
       "      <th>Low</th>\n",
       "      <th>Adj Close</th>\n",
       "      <th>Volume</th>\n",
       "      <th>Profit/Loss</th>\n",
       "    </tr>\n",
       "  </thead>\n",
       "  <tbody>\n",
       "    <tr>\n",
       "      <th>0</th>\n",
       "      <td>185.660004</td>\n",
       "      <td>183.220001</td>\n",
       "      <td>184.929993</td>\n",
       "      <td>17599700</td>\n",
       "      <td>0.349991</td>\n",
       "    </tr>\n",
       "    <tr>\n",
       "      <th>1</th>\n",
       "      <td>184.699997</td>\n",
       "      <td>181.460007</td>\n",
       "      <td>181.460007</td>\n",
       "      <td>15849800</td>\n",
       "      <td>-2.989990</td>\n",
       "    </tr>\n",
       "    <tr>\n",
       "      <th>2</th>\n",
       "      <td>182.880005</td>\n",
       "      <td>178.139999</td>\n",
       "      <td>178.320007</td>\n",
       "      <td>18783000</td>\n",
       "      <td>-3.979996</td>\n",
       "    </tr>\n",
       "  </tbody>\n",
       "</table>\n",
       "</div>"
      ],
      "text/plain": [
       "         High         Low   Adj Close    Volume  Profit/Loss\n",
       "0  185.660004  183.220001  184.929993  17599700     0.349991\n",
       "1  184.699997  181.460007  181.460007  15849800    -2.989990\n",
       "2  182.880005  178.139999  178.320007  18783000    -3.979996"
      ]
     },
     "execution_count": 102,
     "metadata": {},
     "output_type": "execute_result"
    }
   ],
   "source": [
    "data.head(3)"
   ]
  },
  {
   "cell_type": "markdown",
   "metadata": {},
   "source": [
    "## Tying to build a Linear Regression model "
   ]
  },
  {
   "cell_type": "markdown",
   "metadata": {},
   "source": [
    "### Considering the target and features variables to build the model (independent and dependent)"
   ]
  },
  {
   "cell_type": "code",
   "execution_count": 15,
   "metadata": {},
   "outputs": [],
   "source": [
    "X=data.iloc[:,:-1].values\n",
    "Y=data.iloc[:,-1].values"
   ]
  },
  {
   "cell_type": "code",
   "execution_count": 16,
   "metadata": {
    "scrolled": true
   },
   "outputs": [
    {
     "data": {
      "text/plain": [
       "array([ 0.349991, -2.98999 , -3.979996, -3.069993,  3.330002,  4.199997,\n",
       "       -2.      ,  4.970002, -1.220002,  1.319992, -0.470001, -3.729996,\n",
       "        1.589996,  0.619996,  0.599991, -4.449997,  0.679993,  4.589996,\n",
       "       -1.240006, -6.050003, -0.760009, -4.089997,  1.380005,  4.639999,\n",
       "       -2.419999, -0.440002,  3.070007, -2.220002, -0.529999,  0.109986,\n",
       "        7.11    ,  0.960006, -3.110001, -0.059998, -0.889999,  2.830002,\n",
       "       -0.520004,  1.900009, -1.509994, -1.430008, -5.739991, -0.449997,\n",
       "        0.940003, -3.220002, -1.789993,  1.860001,  1.820007, -1.110001,\n",
       "        3.529999,  0.619995,  0.669998,  2.990006,  2.380005,  2.139999,\n",
       "       -1.070008, -0.559998, -0.5     ,  1.080002, -0.810012,  0.720001,\n",
       "       -1.12999 ,  4.399994,  0.049988, -1.100006,  1.400009,  1.130005,\n",
       "        3.910004,  0.919998,  1.440003, -1.360001,  0.309997, -2.570007,\n",
       "        1.570007,  2.729995,  0.229996, -0.330001,  3.709992,  0.060013,\n",
       "        3.509995,  1.25    ,  2.899994, -1.259995,  0.580001, -3.649994,\n",
       "        1.399994, -3.339997,  1.050003, -3.      ,  3.990006, -1.820007,\n",
       "        3.709992,  4.779999, -0.189988, -0.960007,  0.319992,  3.490005,\n",
       "       -0.489991, -0.270004,  5.090011, -0.460006, -0.680008,  1.089996,\n",
       "        0.330002, -0.440003,  1.779999,  1.369996, -4.979996, -4.240005,\n",
       "        1.910004, -2.279999,  5.690002,  0.089997,  6.720001, -2.690002,\n",
       "        0.429993, -2.76001 , -1.779998, -0.050003,  0.399994,  0.190003,\n",
       "       -5.720001, -0.699997, -1.539993, -0.190003,  1.429992, -0.190002,\n",
       "        0.949997,  1.470002, -1.840011, -0.400009,  1.740005, -1.419998,\n",
       "       -2.339996, -2.310012, -4.449997,  2.729995,  0.669998,  2.      ,\n",
       "       -1.25    , -0.639999,  0.600006, -1.339996,  0.910004,  2.979996,\n",
       "        1.520004, -3.710006,  4.380005,  2.919999,  2.649994,  1.289993,\n",
       "       -3.869995, -0.589997, -2.25    ,  2.429993, -2.610001, -1.880005,\n",
       "        1.710007,  0.209992, -5.440002,  3.220001, -2.989991,  0.199997,\n",
       "        3.380005, -0.14    , -3.589997, -1.809998,  0.020004,  3.169998,\n",
       "       -8.240006,  3.220001, -0.450012, -6.410004,  6.279999, -3.210007,\n",
       "        0.229996, -1.449997, -1.420013,  0.630004, -0.040008, -2.62001 ,\n",
       "       -1.789993, -2.929993,  0.160004,  0.520004,  1.520004, -1.540008,\n",
       "       -6.059998,  5.399994,  0.420013, -1.919998,  3.380005, -0.75    ,\n",
       "        0.479996,  2.759995,  2.350006, -1.910004, -2.800003,  5.809998,\n",
       "       -1.830002,  2.25    , -1.800003,  1.419998, -0.560012,  0.720002,\n",
       "       -2.89    ,  2.580002, -7.970002,  2.699997, -8.440002,  0.96    ,\n",
       "        8.179993,  2.080002, -2.139999, -3.360001,  6.689988, -2.949997,\n",
       "        3.940002,  0.490005,  2.64    ,  1.279999,  1.119995,  0.650009,\n",
       "        3.389999,  2.940002, -1.460007,  1.350006,  0.289993, -1.62999 ,\n",
       "       -3.979996,  1.190003,  1.529999, -0.580002, -3.899994,  4.199997,\n",
       "        1.089996, -0.129989,  3.550003,  2.01001 , -0.709992, -1.819992,\n",
       "        2.860001, -2.110001, -1.820008, -1.309998,  0.759995, -2.009995,\n",
       "        1.789993,  0.309998, -1.89    ,  1.309997,  1.549988, -0.209991])"
      ]
     },
     "execution_count": 16,
     "metadata": {},
     "output_type": "execute_result"
    }
   ],
   "source": [
    "Y"
   ]
  },
  {
   "cell_type": "markdown",
   "metadata": {},
   "source": [
    "### Dividing the traning and the test data for predicting and building the model"
   ]
  },
  {
   "cell_type": "code",
   "execution_count": 17,
   "metadata": {},
   "outputs": [],
   "source": [
    "X_train,X_test,Y_train,Y_test=train_test_split(X,Y,test_size=0.2,random_state=1234)"
   ]
  },
  {
   "cell_type": "code",
   "execution_count": 18,
   "metadata": {},
   "outputs": [
    {
     "name": "stdout",
     "output_type": "stream",
     "text": [
      "[[1.90970001e+02 1.86770004e+02 1.88179993e+02 2.15032000e+07]\n",
      " [1.49830002e+02 1.46539993e+02 1.49009995e+02 2.22372000e+07]\n",
      " [1.41770004e+02 1.37770004e+02 1.39529999e+02 3.72506000e+07]\n",
      " [1.92720001e+02 1.87479996e+02 1.91779999e+02 3.07826000e+07]\n",
      " [1.87860001e+02 1.86199997e+02 1.86639999e+02 1.56467000e+07]\n",
      " [1.97070007e+02 1.94639999e+02 1.95850006e+02 2.18609000e+07]\n",
      " [2.11619995e+02 2.08800003e+02 2.10910004e+02 1.67320000e+07]\n",
      " [1.50679993e+02 1.45990005e+02 1.48949997e+02 2.40690000e+07]\n",
      " [1.68339996e+02 1.64500000e+02 1.65039993e+02 1.62923000e+07]\n",
      " [1.54649994e+02 1.45600006e+02 1.46039993e+02 2.77446000e+07]\n",
      " [1.50190002e+02 1.47440002e+02 1.48679993e+02 1.59712000e+07]\n",
      " [2.18619995e+02 2.14270004e+02 2.17500000e+02 5.89542000e+07]\n",
      " [1.67250000e+02 1.62809998e+02 1.62929993e+02 4.59948000e+07]\n",
      " [1.85300003e+02 1.83130005e+02 1.84490005e+02 1.35329000e+07]\n",
      " [1.94550003e+02 1.92070007e+02 1.93990005e+02 1.73072000e+07]\n",
      " [1.53009995e+02 1.49830002e+02 1.51529999e+02 2.18774000e+07]\n",
      " [1.68449997e+02 1.65089996e+02 1.65839996e+02 2.30881000e+07]\n",
      " [2.05800003e+02 2.02119995e+02 2.04740005e+02 1.81494000e+07]\n",
      " [1.56889999e+02 1.51300003e+02 1.53740005e+02 2.52935000e+07]\n",
      " [1.34160004e+02 1.26849998e+02 1.32429993e+02 4.19395000e+07]\n",
      " [1.64490005e+02 1.61800003e+02 1.62000000e+02 2.40781000e+07]\n",
      " [1.34500000e+02 1.31259995e+02 1.31729996e+02 1.18861000e+07]\n",
      " [1.55880005e+02 1.50800003e+02 1.53029999e+02 6.00292000e+07]\n",
      " [1.71770004e+02 1.67210007e+02 1.68839996e+02 2.72669000e+07]\n",
      " [1.58660004e+02 1.53279999e+02 1.54919998e+02 2.16751000e+07]\n",
      " [1.72470001e+02 1.69270004e+02 1.70490005e+02 1.32812000e+07]\n",
      " [1.82610001e+02 1.78899994e+02 1.80050003e+02 1.73694000e+07]\n",
      " [1.29740005e+02 1.23019997e+02 1.24059998e+02 2.20660000e+07]\n",
      " [1.84250000e+02 1.81850006e+02 1.84190002e+02 1.68217000e+07]\n",
      " [1.59199997e+02 1.54110001e+02 1.55389999e+02 3.67960000e+07]\n",
      " [1.84320007e+02 1.82660004e+02 1.83199997e+02 1.69755000e+07]\n",
      " [1.57389999e+02 1.50809998e+02 1.56110001e+02 4.25439000e+07]\n",
      " [1.47759995e+02 1.44070007e+02 1.44960007e+02 1.73269000e+07]\n",
      " [1.62059998e+02 1.59770004e+02 1.60580002e+02 2.10053000e+07]\n",
      " [1.73399994e+02 1.63300003e+02 1.69389999e+02 1.05920200e+08]\n",
      " [1.49000000e+02 1.46500000e+02 1.48300003e+02 1.57879000e+07]\n",
      " [1.85990005e+02 1.81110001e+02 1.81880005e+02 1.80675000e+07]\n",
      " [1.66449997e+02 1.64470001e+02 1.66020004e+02 1.88242000e+07]\n",
      " [1.44699997e+02 1.41270004e+02 1.44229996e+02 2.22059000e+07]\n",
      " [1.60490005e+02 1.57949997e+02 1.59419998e+02 1.75920000e+07]\n",
      " [1.65589996e+02 1.61149994e+02 1.64910004e+02 2.76228000e+07]\n",
      " [1.69100006e+02 1.65660004e+02 1.65710007e+02 3.08065000e+07]\n",
      " [1.35570007e+02 1.30000000e+02 1.33399994e+02 4.02979000e+07]\n",
      " [1.49000000e+02 1.43800003e+02 1.45369995e+02 3.13033000e+07]\n",
      " [1.61570007e+02 1.56649994e+02 1.59339996e+02 4.14496000e+07]\n",
      " [2.11500000e+02 2.08500000e+02 2.09940002e+02 1.61639000e+07]\n",
      " [2.09990005e+02 2.07759995e+02 2.08089996e+02 1.13504000e+07]\n",
      " [1.71979996e+02 1.68690002e+02 1.71160004e+02 2.25570000e+07]\n",
      " [1.79500000e+02 1.77169998e+02 1.77970001e+02 1.86972000e+07]\n",
      " [1.74820007e+02 1.72919998e+02 1.74649994e+02 1.46316000e+07]\n",
      " [2.00000000e+02 1.93110001e+02 1.96350006e+02 2.52751000e+07]\n",
      " [1.43139999e+02 1.39539993e+02 1.42529999e+02 2.62638000e+07]\n",
      " [1.86910004e+02 1.82179993e+02 1.86899994e+02 1.66281000e+07]\n",
      " [1.66979996e+02 1.60000000e+02 1.62529999e+02 4.15148000e+07]\n",
      " [1.37190002e+02 1.34130005e+02 1.34820007e+02 2.54697000e+07]\n",
      " [1.61100006e+02 1.49020004e+02 1.60059998e+02 1.26116600e+08]\n",
      " [1.44880005e+02 1.41619995e+02 1.42160004e+02 1.51417000e+07]\n",
      " [1.37169998e+02 1.31119995e+02 1.31740005e+02 2.27179000e+07]\n",
      " [1.84399994e+02 1.81449997e+02 1.82339996e+02 1.72259000e+07]\n",
      " [1.37509995e+02 1.28559998e+02 1.35679993e+02 2.81462000e+07]\n",
      " [1.63720001e+02 1.61250000e+02 1.62559998e+02 1.17707000e+07]\n",
      " [1.48800003e+02 1.43059998e+02 1.44300003e+02 2.00984000e+07]\n",
      " [1.46570007e+02 1.41270004e+02 1.45389999e+02 2.05203000e+07]\n",
      " [1.50940002e+02 1.46740005e+02 1.47869995e+02 2.41458000e+07]\n",
      " [1.69000000e+02 1.65660004e+02 1.68660004e+02 2.17167000e+07]\n",
      " [1.60589996e+02 1.57419998e+02 1.57899994e+02 1.88444000e+07]\n",
      " [1.38869995e+02 1.35910004e+02 1.38050003e+02 2.00893000e+07]\n",
      " [1.40869995e+02 1.36660004e+02 1.37419998e+02 2.11955000e+07]\n",
      " [1.35919998e+02 1.32199997e+02 1.33199997e+02 2.26276000e+07]\n",
      " [1.76270004e+02 1.70800003e+02 1.74160004e+02 7.75569000e+07]\n",
      " [1.68789993e+02 1.62559998e+02 1.64460007e+02 3.42656000e+07]\n",
      " [1.65699997e+02 1.63770004e+02 1.64520004e+02 1.99906000e+07]\n",
      " [1.97449997e+02 1.92220001e+02 1.97360001e+02 1.39616000e+07]\n",
      " [1.68119995e+02 1.65770004e+02 1.66360001e+02 2.09696000e+07]\n",
      " [1.55570007e+02 1.52550003e+02 1.53520004e+02 1.54335000e+07]\n",
      " [1.84059998e+02 1.82220001e+02 1.83759995e+02 1.48407000e+07]\n",
      " [1.63660004e+02 1.59529999e+02 1.62429993e+02 2.31095000e+07]\n",
      " [1.78080002e+02 1.74199997e+02 1.76070007e+02 3.04245000e+07]\n",
      " [1.97960007e+02 1.93789993e+02 1.97490005e+02 1.99940000e+07]\n",
      " [1.45850006e+02 1.43190002e+02 1.45009995e+02 1.81486000e+07]\n",
      " [1.79789993e+02 1.75699997e+02 1.77639999e+02 2.42165000e+07]\n",
      " [1.48100006e+02 1.43429993e+02 1.44190002e+02 1.76321000e+07]\n",
      " [1.77169998e+02 1.70059998e+02 1.72559998e+02 8.81401000e+07]\n",
      " [1.86809998e+02 1.83710007e+02 1.85740005e+02 1.63989000e+07]\n",
      " [1.74169998e+02 1.71389999e+02 1.72619995e+02 1.95785000e+07]\n",
      " [1.93979996e+02 1.91470001e+02 1.93279999e+02 1.89398000e+07]\n",
      " [1.71679993e+02 1.65000000e+02 1.66690002e+02 7.72336000e+07]\n",
      " [1.66070007e+02 1.62899994e+02 1.64619995e+02 1.87371000e+07]\n",
      " [1.49649994e+02 1.47000000e+02 1.47539993e+02 1.80257000e+07]\n",
      " [1.40970001e+02 1.37360001e+02 1.40610001e+02 2.57326000e+07]\n",
      " [1.69240005e+02 1.65250000e+02 1.66380005e+02 1.75176000e+07]\n",
      " [1.34639999e+02 1.29949997e+02 1.31089996e+02 2.46253000e+07]\n",
      " [1.61759995e+02 1.58869995e+02 1.60300003e+02 2.24652000e+07]\n",
      " [1.84699997e+02 1.81460007e+02 1.81460007e+02 1.58498000e+07]\n",
      " [1.36789993e+02 1.31850006e+02 1.36759995e+02 2.98475000e+07]\n",
      " [1.43880005e+02 1.41100006e+02 1.42080002e+02 2.03003000e+07]\n",
      " [1.43389999e+02 1.37160004e+02 1.37929993e+02 3.03074000e+07]\n",
      " [1.80869995e+02 1.74779999e+02 1.79529999e+02 3.30202000e+07]\n",
      " [1.62850006e+02 1.50750000e+02 1.52220001e+02 7.91170000e+07]\n",
      " [1.67369995e+02 1.64210007e+02 1.67330002e+02 1.25614000e+07]\n",
      " [1.86850006e+02 1.83759995e+02 1.85179993e+02 2.22052000e+07]\n",
      " [1.98649994e+02 1.94029999e+02 1.98449997e+02 1.96842000e+07]\n",
      " [2.10460007e+02 2.04839996e+02 2.09990005e+02 1.53499000e+07]\n",
      " [1.76220001e+02 1.72039993e+02 1.73800003e+02 2.48932000e+07]\n",
      " [1.85660004e+02 1.83220001e+02 1.84929993e+02 1.75997000e+07]\n",
      " [1.80130005e+02 1.73750000e+02 1.76259995e+02 1.69803700e+08]\n",
      " [1.37000000e+02 1.32779999e+02 1.36380005e+02 2.42636000e+07]\n",
      " [1.86800003e+02 1.85029999e+02 1.85929993e+02 1.23547000e+07]\n",
      " [1.65880005e+02 1.61259995e+02 1.62440002e+02 2.64077000e+07]\n",
      " [1.99580002e+02 1.94130005e+02 1.98309998e+02 1.68260000e+07]\n",
      " [1.85289993e+02 1.83199997e+02 1.84320007e+02 1.54294000e+07]\n",
      " [1.36610001e+02 1.33710007e+02 1.35000000e+02 2.07503000e+07]\n",
      " [2.16199997e+02 2.12600006e+02 2.14669998e+02 2.84687000e+07]\n",
      " [2.02240005e+02 1.99309998e+02 2.01740005e+02 1.74202000e+07]\n",
      " [1.77110001e+02 1.72990005e+02 1.76619995e+02 2.00259000e+07]\n",
      " [1.61419998e+02 1.56809998e+02 1.57199997e+02 4.16448000e+07]\n",
      " [1.86100006e+02 1.84220001e+02 1.84759995e+02 1.53012000e+07]\n",
      " [1.46440002e+02 1.42520004e+02 1.45830002e+02 2.09555000e+07]\n",
      " [1.64869995e+02 1.62250000e+02 1.63949997e+02 1.27552000e+07]\n",
      " [1.68300003e+02 1.65080002e+02 1.65789993e+02 1.28112000e+07]\n",
      " [1.45039993e+02 1.40490005e+02 1.41550003e+02 1.85421000e+07]\n",
      " [1.71130005e+02 1.66669998e+02 1.67179993e+02 3.12267000e+07]\n",
      " [1.64630005e+02 1.60160004e+02 1.63039993e+02 2.43006000e+07]\n",
      " [1.62410004e+02 1.60309998e+02 1.61889999e+02 1.58585000e+07]\n",
      " [1.75080002e+02 1.70899994e+02 1.71649994e+02 3.40421000e+07]\n",
      " [1.45360001e+02 1.42570007e+02 1.43800003e+02 1.29080000e+07]\n",
      " [1.52429993e+02 1.48550003e+02 1.50039993e+02 3.10296000e+07]\n",
      " [2.00750000e+02 1.95800003e+02 1.95839996e+02 1.87344000e+07]\n",
      " [1.70270004e+02 1.63720001e+02 1.64889999e+02 7.37430000e+07]\n",
      " [1.66220001e+02 1.63729996e+02 1.64070007e+02 1.42051000e+07]\n",
      " [1.66240005e+02 1.63800003e+02 1.64130005e+02 1.36452000e+07]\n",
      " [1.46639999e+02 1.39740005e+02 1.46220001e+02 5.05283000e+07]\n",
      " [1.97339996e+02 1.93259995e+02 1.96229996e+02 1.81724000e+07]\n",
      " [1.92529999e+02 1.89110001e+02 1.91339996e+02 2.25589000e+07]\n",
      " [1.44839996e+02 1.40830002e+02 1.43850006e+02 3.03203000e+07]\n",
      " [1.89479996e+02 1.86429993e+02 1.89100006e+02 1.26771000e+07]\n",
      " [1.61059998e+02 1.56190002e+02 1.59690002e+02 4.10836000e+07]\n",
      " [1.70199997e+02 1.61949997e+02 1.68149994e+02 1.29851800e+08]\n",
      " [1.74020004e+02 1.70229996e+02 1.73860001e+02 2.60259000e+07]\n",
      " [1.99100006e+02 1.96229996e+02 1.99000000e+02 1.78976000e+07]\n",
      " [1.95399994e+02 1.92520004e+02 1.92729996e+02 1.34895000e+07]\n",
      " [1.54809998e+02 1.49160004e+02 1.53350006e+02 3.53389000e+07]\n",
      " [1.88300003e+02 1.83720001e+02 1.83809998e+02 3.33986000e+07]\n",
      " [1.34240005e+02 1.25889999e+02 1.34179993e+02 3.97234000e+07]\n",
      " [2.08429993e+02 2.06449997e+02 2.07320007e+02 1.14868000e+07]\n",
      " [1.64149994e+02 1.60330002e+02 1.62289993e+02 1.43454000e+07]\n",
      " [1.84000000e+02 1.82190002e+02 1.83860001e+02 1.56143000e+07]\n",
      " [1.97600006e+02 1.93960007e+02 1.94320007e+02 1.58116000e+07]\n",
      " [2.03389999e+02 2.00089996e+02 2.01500000e+02 1.90457000e+07]\n",
      " [1.58339996e+02 1.54389999e+02 1.57250000e+02 2.40460000e+07]\n",
      " [1.52750000e+02 1.49350006e+02 1.51750000e+02 2.56408000e+07]\n",
      " [1.44910004e+02 1.32500000e+02 1.33240005e+02 5.74049000e+07]\n",
      " [1.85419998e+02 1.83429993e+02 1.83800003e+02 1.27314000e+07]\n",
      " [1.43050003e+02 1.39009995e+02 1.41850006e+02 2.64222000e+07]\n",
      " [1.85330002e+02 1.83410004e+02 1.85089996e+02 2.44034000e+07]\n",
      " [1.75300003e+02 1.66559998e+02 1.71059998e+02 6.52808000e+07]\n",
      " [1.86570007e+02 1.82479996e+02 1.83089996e+02 1.96967000e+07]\n",
      " [1.46009995e+02 1.42509995e+02 1.44059998e+02 2.17858000e+07]\n",
      " [1.39990005e+02 1.35660004e+02 1.38679993e+02 2.42387000e+07]\n",
      " [1.62839996e+02 1.60339996e+02 1.62320007e+02 2.17704000e+07]\n",
      " [1.66600006e+02 1.59020004e+02 1.59389999e+02 5.36097000e+07]\n",
      " [1.82880005e+02 1.78139999e+02 1.78320007e+02 1.87830000e+07]\n",
      " [1.80119995e+02 1.74410004e+02 1.75940002e+02 2.32016000e+07]\n",
      " [1.51529999e+02 1.46369995e+02 1.47570007e+02 2.23787000e+07]\n",
      " [1.94500000e+02 1.91910004e+02 1.92410004e+02 1.58538000e+07]\n",
      " [1.78240005e+02 1.75830002e+02 1.76259995e+02 1.59107000e+07]\n",
      " [1.63320007e+02 1.60860001e+02 1.61360001e+02 2.54538000e+07]\n",
      " [1.43679993e+02 1.40759995e+02 1.41089996e+02 2.48192000e+07]\n",
      " [1.57339996e+02 1.54460007e+02 1.54779999e+02 1.54247000e+07]\n",
      " [1.65779999e+02 1.63389999e+02 1.64830002e+02 1.81194000e+07]\n",
      " [1.68330002e+02 1.65199997e+02 1.68100006e+02 2.22350000e+07]\n",
      " [1.97279999e+02 1.92910004e+02 1.96809998e+02 1.91209000e+07]\n",
      " [1.79039993e+02 1.77110001e+02 1.78919998e+02 1.55772000e+07]\n",
      " [1.54130005e+02 1.48960007e+02 1.50350006e+02 2.47087000e+07]\n",
      " [1.78669998e+02 1.75789993e+02 1.77460007e+02 1.79219000e+07]\n",
      " [1.47190002e+02 1.42509995e+02 1.44500000e+02 2.36969000e+07]\n",
      " [2.03550003e+02 1.98809998e+02 2.02000000e+02 2.82309000e+07]\n",
      " [1.95000000e+02 1.92619995e+02 1.92940002e+02 1.55443000e+07]\n",
      " [1.44559998e+02 1.40839996e+02 1.44199997e+02 1.61250000e+07]\n",
      " [1.85789993e+02 1.78380005e+02 1.85690002e+02 4.97162000e+07]\n",
      " [1.80500000e+02 1.74009995e+02 1.74699997e+02 3.13518000e+07]\n",
      " [1.37750000e+02 1.31210007e+02 1.31550003e+02 4.43627000e+07]\n",
      " [1.81990005e+02 1.78619995e+02 1.81110001e+02 1.91020000e+07]\n",
      " [1.55559998e+02 1.50509995e+02 1.55100006e+02 4.98856000e+07]\n",
      " [1.74240005e+02 1.72130005e+02 1.73639999e+02 1.68941000e+07]\n",
      " [1.69300003e+02 1.63619995e+02 1.69250000e+02 2.00360000e+07]\n",
      " [1.57690002e+02 1.51309998e+02 1.51380005e+02 3.06100000e+07]\n",
      " [1.48830002e+02 1.39029999e+02 1.42089996e+02 3.13368000e+07]\n",
      " [1.65979996e+02 1.57009995e+02 1.65039993e+02 5.78893000e+07]\n",
      " [1.61460007e+02 1.57350006e+02 1.58850006e+02 2.57396000e+07]\n",
      " [1.50949997e+02 1.45699997e+02 1.50419998e+02 4.46132000e+07]\n",
      " [1.61419998e+02 1.54139999e+02 1.59789993e+02 5.94343000e+07]\n",
      " [1.50970001e+02 1.48000000e+02 1.49940002e+02 1.66671000e+07]\n",
      " [1.63440002e+02 1.59479996e+02 1.63059998e+02 1.96290000e+07]\n",
      " [1.62279999e+02 1.58669998e+02 1.59330002e+02 3.60310000e+07]\n",
      " [1.82100006e+02 1.79419998e+02 1.80259995e+02 2.15004000e+07]\n",
      " [1.44919998e+02 1.38419998e+02 1.40190002e+02 2.43340000e+07]\n",
      " [1.88320007e+02 1.84179993e+02 1.86990005e+02 2.12078000e+07]\n",
      " [1.68429993e+02 1.65809998e+02 1.66279999e+02 1.91194000e+07]\n",
      " [1.34990005e+02 1.29669998e+02 1.34520004e+02 3.12025000e+07]\n",
      " [1.76119995e+02 1.72119995e+02 1.74020004e+02 2.40261000e+07]] [[1.34899994e+02 1.23419998e+02 1.24949997e+02 5.69015000e+07]\n",
      " [2.04500000e+02 2.01750000e+02 2.02539993e+02 1.29274000e+07]\n",
      " [1.68649994e+02 1.63250000e+02 1.66320007e+02 5.61446000e+07]\n",
      " [1.62240005e+02 1.59589996e+02 1.60039993e+02 1.56078000e+07]\n",
      " [1.38000000e+02 1.33750000e+02 1.37949997e+02 2.90021000e+07]\n",
      " [1.82380005e+02 1.79110001e+02 1.79779999e+02 1.50868000e+07]\n",
      " [2.03639999e+02 1.97699997e+02 2.03229996e+02 1.97401000e+07]\n",
      " [1.92600006e+02 1.88800003e+02 1.91539993e+02 1.29289000e+07]\n",
      " [1.76789993e+02 1.74750000e+02 1.75899994e+02 1.84941000e+07]\n",
      " [1.81149994e+02 1.75889999e+02 1.80399994e+02 1.61893000e+07]\n",
      " [1.65009995e+02 1.62160004e+02 1.64179993e+02 2.01977000e+07]\n",
      " [1.78850006e+02 1.76149994e+02 1.77779999e+02 2.47634000e+07]\n",
      " [1.59460007e+02 1.55009995e+02 1.58779999e+02 1.91801000e+07]\n",
      " [1.93279999e+02 1.91559998e+02 1.92399994e+02 1.15627000e+07]\n",
      " [1.76979996e+02 1.73059998e+02 1.76610001e+02 1.76778000e+07]\n",
      " [1.88000000e+02 1.85250000e+02 1.87669998e+02 1.37369000e+07]\n",
      " [1.83820007e+02 1.78070007e+02 1.83710007e+02 1.90973000e+07]\n",
      " [1.54770004e+02 1.50850006e+02 1.54389999e+02 1.90950000e+07]\n",
      " [1.67449997e+02 1.63100006e+02 1.63869995e+02 3.82630000e+07]\n",
      " [1.86330002e+02 1.84449997e+02 1.84919998e+02 1.09651000e+07]\n",
      " [1.73889999e+02 1.68800003e+02 1.71160004e+02 2.98090000e+07]\n",
      " [2.08720001e+02 2.06839996e+02 2.07229996e+02 1.10782000e+07]\n",
      " [1.83009995e+02 1.78779999e+02 1.82660004e+02 2.32828000e+07]\n",
      " [1.74570007e+02 1.70910004e+02 1.72500000e+02 2.15180000e+07]\n",
      " [1.85509995e+02 1.83210007e+02 1.85229996e+02 1.85263000e+07]\n",
      " [1.65699997e+02 1.60880005e+02 1.65410004e+02 1.92228000e+07]\n",
      " [1.76789993e+02 1.70270004e+02 1.76369995e+02 3.24000000e+07]\n",
      " [1.39699997e+02 1.33669998e+02 1.39630005e+02 2.82181000e+07]\n",
      " [1.86130005e+02 1.82500000e+02 1.85529999e+02 2.10714000e+07]\n",
      " [1.60899994e+02 1.56199997e+02 1.57330002e+02 2.57440000e+07]\n",
      " [1.60529999e+02 1.56039993e+02 1.57929993e+02 3.49152000e+07]\n",
      " [1.77619995e+02 1.74979996e+02 1.75729996e+02 1.80652000e+07]\n",
      " [1.75550003e+02 1.72830002e+02 1.72899994e+02 1.80536000e+07]\n",
      " [1.52210007e+02 1.47000000e+02 1.50949997e+02 2.21057000e+07]\n",
      " [1.64699997e+02 1.60860001e+02 1.62500000e+02 1.55044000e+07]\n",
      " [1.57350006e+02 1.53550003e+02 1.54050003e+02 1.97613000e+07]\n",
      " [1.45929993e+02 1.39830002e+02 1.43660004e+02 2.47091000e+07]\n",
      " [2.07080002e+02 2.03190002e+02 2.06919998e+02 1.54547000e+07]\n",
      " [2.10990005e+02 2.08440002e+02 2.09360001e+02 1.53349000e+07]\n",
      " [1.56399994e+02 1.48960007e+02 1.51789993e+02 6.01013000e+07]\n",
      " [1.66100006e+02 1.58190002e+02 1.59690002e+02 3.50799000e+07]\n",
      " [1.69300003e+02 1.64210007e+02 1.66949997e+02 2.52522000e+07]\n",
      " [1.45580002e+02 1.41550003e+02 1.44220001e+02 2.20684000e+07]\n",
      " [1.84190002e+02 1.82610001e+02 1.82679993e+02 1.31305000e+07]\n",
      " [1.74240005e+02 1.70000000e+02 1.72580002e+02 4.03565000e+07]\n",
      " [1.67190002e+02 1.63720001e+02 1.65940002e+02 2.04571000e+07]\n",
      " [1.79929993e+02 1.73000000e+02 1.74889999e+02 6.00737000e+07]\n",
      " [1.48960007e+02 1.46210007e+02 1.47470001e+02 1.55085000e+07]\n",
      " [2.04910004e+02 2.02259995e+02 2.03539993e+02 1.31901000e+07]\n",
      " [1.75720001e+02 1.71710007e+02 1.72000000e+02 2.07505000e+07]\n",
      " [1.77100006e+02 1.72600006e+02 1.73589996e+02 2.98047000e+07]]\n"
     ]
    }
   ],
   "source": [
    "print(X_train,X_test)"
   ]
  },
  {
   "cell_type": "code",
   "execution_count": 19,
   "metadata": {},
   "outputs": [
    {
     "data": {
      "text/plain": [
       "array([-2.570007,  1.529999, -1.540008,  3.910004, -1.070008,  0.060013,\n",
       "        0.330002,  2.940002, -1.820008, -8.240006, -1.420013,  1.779999,\n",
       "       -3.710006,  0.720001,  0.919998, -0.040008, -1.430008, -0.189988,\n",
       "       -2.989991,  5.399994, -1.25    , -1.919998,  1.380005,  1.289993,\n",
       "       -3.589997, -0.709992, -0.050003,  0.96    ,  1.589996, -2.419999,\n",
       "       -0.5     , -0.440002, -1.789993, -1.339996,  4.589996,  1.350006,\n",
       "       -3.729996,  1.520004,  1.279999, -0.14    ,  2.919999, -0.129989,\n",
       "        2.699997, -0.450012, -2.220002,  1.089996, -0.680008,  2.01001 ,\n",
       "        0.619995,  0.949997, -3.649994,  2.64    ,  4.399994, -4.449997,\n",
       "        0.420013, -0.760009,  0.160004, -2.949997, -1.220002,  6.689988,\n",
       "        0.309998, -3.979996,  3.389999, -2.62001 ,  2.830002,  0.209992,\n",
       "        0.490005, -1.830002, -2.139999,  0.940003, -3.869995, -0.059998,\n",
       "        3.990006, -0.520004,  0.199997,  1.080002,  2.429993,  1.820007,\n",
       "        1.25    , -0.560012,  1.740005, -3.899994, -4.449997,  1.400009,\n",
       "       -0.190003,  1.440003,  1.089996,  1.549988, -1.460007,  2.350006,\n",
       "       -1.819992, -3.360001,  0.910004, -2.98999 ,  0.479996, -1.800003,\n",
       "       -2.800003,  0.190003, -4.089997,  2.860001,  0.429993,  3.709992,\n",
       "        5.090011, -0.699997,  0.349991,  1.369996,  3.380005,  0.049988,\n",
       "       -0.589997,  3.509995, -0.559998, -0.75    , -0.440003,  0.580001,\n",
       "        3.330002, -0.529999, -0.470001,  1.190003,  0.759995, -2.110001,\n",
       "       -2.929993, -2.310012,  2.729995,  1.309997, -2.279999,  0.650009,\n",
       "        0.289993, -3.339997, -1.240006, -1.309998, -0.209991,  6.279999,\n",
       "        1.050003,  0.309997,  1.520004,  1.570007, -0.449997,  0.679993,\n",
       "        1.860001,  1.399994, -1.820007,  3.220001, -2.690002,  8.179993,\n",
       "       -0.489991,  1.789993,  0.619996, -3.      , -1.259995,  1.710007,\n",
       "        0.229996, -7.970002, -1.12999 ,  2.25    ,  0.599991, -4.240005,\n",
       "       -2.76001 ,  0.720002,  2.759995,  0.600006, -6.050003, -3.979996,\n",
       "       -3.069993, -1.62999 , -0.330001, -1.840011, -0.639999, -1.910004,\n",
       "        0.020004, -0.889999,  1.900009,  3.709992,  0.669998, -1.449997,\n",
       "        1.470002,  1.419998,  2.899994, -1.360001,  1.119995,  6.720001,\n",
       "       -5.720001, -6.059998,  0.399994,  3.070007,  1.429992,  3.550003,\n",
       "       -5.440002, -6.410004,  7.11    , -2.610001,  4.199997,  4.639999,\n",
       "        0.630004,  2.979996, -2.25    , -1.779998, -2.89    ,  2.139999,\n",
       "       -1.509994,  2.080002, -1.110001])"
      ]
     },
     "execution_count": 19,
     "metadata": {},
     "output_type": "execute_result"
    }
   ],
   "source": [
    "Y_train"
   ]
  },
  {
   "cell_type": "markdown",
   "metadata": {},
   "source": [
    "### Importing required packages to perform Linear Regression model"
   ]
  },
  {
   "cell_type": "code",
   "execution_count": 20,
   "metadata": {},
   "outputs": [],
   "source": [
    "from statsmodels.regression import linear_model\n",
    "from sklearn.linear_model import LinearRegression"
   ]
  },
  {
   "cell_type": "markdown",
   "metadata": {},
   "source": [
    "### Fitting the traning data in Linear gression "
   ]
  },
  {
   "cell_type": "code",
   "execution_count": 21,
   "metadata": {},
   "outputs": [
    {
     "data": {
      "text/plain": [
       "LinearRegression(copy_X=True, fit_intercept=True, n_jobs=1, normalize=False)"
      ]
     },
     "execution_count": 21,
     "metadata": {},
     "output_type": "execute_result"
    }
   ],
   "source": [
    "regressor=LinearRegression()\n",
    "regressor.fit(X_train,Y_train)"
   ]
  },
  {
   "cell_type": "markdown",
   "metadata": {},
   "source": [
    "### The intercept "
   ]
  },
  {
   "cell_type": "code",
   "execution_count": 22,
   "metadata": {},
   "outputs": [
    {
     "name": "stdout",
     "output_type": "stream",
     "text": [
      "1.3846292352284704\n"
     ]
    }
   ],
   "source": [
    "print(regressor.intercept_)"
   ]
  },
  {
   "cell_type": "markdown",
   "metadata": {},
   "source": [
    "### The Coefficient"
   ]
  },
  {
   "cell_type": "code",
   "execution_count": 23,
   "metadata": {},
   "outputs": [
    {
     "name": "stdout",
     "output_type": "stream",
     "text": [
      "[-8.55887866e-01 -6.40635559e-01  1.49074904e+00  1.82007218e-09]\n"
     ]
    }
   ],
   "source": [
    "print(regressor.coef_)"
   ]
  },
  {
   "cell_type": "markdown",
   "metadata": {},
   "source": [
    "### Predicting the result by applying the model on test data "
   ]
  },
  {
   "cell_type": "code",
   "execution_count": 24,
   "metadata": {},
   "outputs": [],
   "source": [
    "y_pred=regressor.predict(X_test)"
   ]
  },
  {
   "cell_type": "code",
   "execution_count": 25,
   "metadata": {},
   "outputs": [
    {
     "data": {
      "text/plain": [
       "array([-6.76922502, -0.9328341 ,  0.49896906, -1.10577518,  3.28870947,\n",
       "       -1.42211935,  3.43882718,  1.15021821,  0.37756357,  2.6197435 ,\n",
       "        1.05704046,  0.53156373,  2.33586987,  0.0796286 ,  2.35457421,\n",
       "        1.59384497,  3.87761261,  2.47048022, -2.06277542, -0.56891838,\n",
       "       -0.37412872, -0.81726238,  2.55837288, -0.32537345,  1.4031885 ,\n",
       "        3.11835232,  3.97357159,  4.38799817,  1.77924664, -1.80858999,\n",
       "       -0.47828326, -0.73437367, -1.80417391,  2.00530135, -0.35779797,\n",
       "       -1.97306227,  1.1108331 ,  2.47054514, -0.60210158, -1.5151299 ,\n",
       "       -3.99892538,  0.21055021,  1.13850107, -0.8938956 ,  0.69360251,\n",
       "        0.81601322, -2.61878331,  0.09322643, -0.1192453 , -2.56892115,\n",
       "       -1.93345138])"
      ]
     },
     "execution_count": 25,
     "metadata": {},
     "output_type": "execute_result"
    }
   ],
   "source": [
    "y_pred"
   ]
  },
  {
   "cell_type": "markdown",
   "metadata": {},
   "source": [
    "### Dataframing the Actual and Predected values "
   ]
  },
  {
   "cell_type": "code",
   "execution_count": 130,
   "metadata": {},
   "outputs": [],
   "source": [
    "df=pd.DataFrame({'Actual':Y_test,'Predicted':y_pred})"
   ]
  },
  {
   "cell_type": "markdown",
   "metadata": {},
   "source": [
    "### The Result"
   ]
  },
  {
   "cell_type": "code",
   "execution_count": 131,
   "metadata": {},
   "outputs": [
    {
     "data": {
      "text/html": [
       "<div>\n",
       "<style scoped>\n",
       "    .dataframe tbody tr th:only-of-type {\n",
       "        vertical-align: middle;\n",
       "    }\n",
       "\n",
       "    .dataframe tbody tr th {\n",
       "        vertical-align: top;\n",
       "    }\n",
       "\n",
       "    .dataframe thead th {\n",
       "        text-align: right;\n",
       "    }\n",
       "</style>\n",
       "<table border=\"1\" class=\"dataframe\">\n",
       "  <thead>\n",
       "    <tr style=\"text-align: right;\">\n",
       "      <th></th>\n",
       "      <th>Actual</th>\n",
       "      <th>Predicted</th>\n",
       "    </tr>\n",
       "  </thead>\n",
       "  <tbody>\n",
       "    <tr>\n",
       "      <th>0</th>\n",
       "      <td>-8.440002</td>\n",
       "      <td>-6.769225</td>\n",
       "    </tr>\n",
       "    <tr>\n",
       "      <th>1</th>\n",
       "      <td>0.319992</td>\n",
       "      <td>-0.932834</td>\n",
       "    </tr>\n",
       "    <tr>\n",
       "      <th>2</th>\n",
       "      <td>0.960006</td>\n",
       "      <td>0.498969</td>\n",
       "    </tr>\n",
       "    <tr>\n",
       "      <th>3</th>\n",
       "      <td>-1.890000</td>\n",
       "      <td>-1.105775</td>\n",
       "    </tr>\n",
       "    <tr>\n",
       "      <th>4</th>\n",
       "      <td>3.940002</td>\n",
       "      <td>3.288709</td>\n",
       "    </tr>\n",
       "    <tr>\n",
       "      <th>5</th>\n",
       "      <td>-2.000000</td>\n",
       "      <td>-1.422119</td>\n",
       "    </tr>\n",
       "    <tr>\n",
       "      <th>6</th>\n",
       "      <td>4.779999</td>\n",
       "      <td>3.438827</td>\n",
       "    </tr>\n",
       "    <tr>\n",
       "      <th>7</th>\n",
       "      <td>2.729995</td>\n",
       "      <td>1.150218</td>\n",
       "    </tr>\n",
       "    <tr>\n",
       "      <th>8</th>\n",
       "      <td>-0.400009</td>\n",
       "      <td>0.377564</td>\n",
       "    </tr>\n",
       "    <tr>\n",
       "      <th>9</th>\n",
       "      <td>4.199997</td>\n",
       "      <td>2.619744</td>\n",
       "    </tr>\n",
       "    <tr>\n",
       "      <th>10</th>\n",
       "      <td>0.669998</td>\n",
       "      <td>1.057040</td>\n",
       "    </tr>\n",
       "    <tr>\n",
       "      <th>11</th>\n",
       "      <td>0.089997</td>\n",
       "      <td>0.531564</td>\n",
       "    </tr>\n",
       "    <tr>\n",
       "      <th>12</th>\n",
       "      <td>3.380005</td>\n",
       "      <td>2.335870</td>\n",
       "    </tr>\n",
       "    <tr>\n",
       "      <th>13</th>\n",
       "      <td>0.229996</td>\n",
       "      <td>0.079629</td>\n",
       "    </tr>\n",
       "    <tr>\n",
       "      <th>14</th>\n",
       "      <td>3.529999</td>\n",
       "      <td>2.354574</td>\n",
       "    </tr>\n",
       "    <tr>\n",
       "      <th>15</th>\n",
       "      <td>1.130005</td>\n",
       "      <td>1.593845</td>\n",
       "    </tr>\n",
       "    <tr>\n",
       "      <th>16</th>\n",
       "      <td>4.970002</td>\n",
       "      <td>3.877613</td>\n",
       "    </tr>\n",
       "    <tr>\n",
       "      <th>17</th>\n",
       "      <td>3.169998</td>\n",
       "      <td>2.470480</td>\n",
       "    </tr>\n",
       "    <tr>\n",
       "      <th>18</th>\n",
       "      <td>-3.110001</td>\n",
       "      <td>-2.062775</td>\n",
       "    </tr>\n",
       "    <tr>\n",
       "      <th>19</th>\n",
       "      <td>-1.100006</td>\n",
       "      <td>-0.568918</td>\n",
       "    </tr>\n",
       "    <tr>\n",
       "      <th>20</th>\n",
       "      <td>-2.339996</td>\n",
       "      <td>-0.374129</td>\n",
       "    </tr>\n",
       "    <tr>\n",
       "      <th>21</th>\n",
       "      <td>-0.270004</td>\n",
       "      <td>-0.817262</td>\n",
       "    </tr>\n",
       "    <tr>\n",
       "      <th>22</th>\n",
       "      <td>2.990006</td>\n",
       "      <td>2.558373</td>\n",
       "    </tr>\n",
       "    <tr>\n",
       "      <th>23</th>\n",
       "      <td>-1.539993</td>\n",
       "      <td>-0.325373</td>\n",
       "    </tr>\n",
       "    <tr>\n",
       "      <th>24</th>\n",
       "      <td>1.319992</td>\n",
       "      <td>1.403188</td>\n",
       "    </tr>\n",
       "    <tr>\n",
       "      <th>25</th>\n",
       "      <td>4.380005</td>\n",
       "      <td>3.118352</td>\n",
       "    </tr>\n",
       "    <tr>\n",
       "      <th>26</th>\n",
       "      <td>5.690002</td>\n",
       "      <td>3.973572</td>\n",
       "    </tr>\n",
       "    <tr>\n",
       "      <th>27</th>\n",
       "      <td>5.809998</td>\n",
       "      <td>4.387998</td>\n",
       "    </tr>\n",
       "    <tr>\n",
       "      <th>28</th>\n",
       "      <td>2.380005</td>\n",
       "      <td>1.779247</td>\n",
       "    </tr>\n",
       "    <tr>\n",
       "      <th>29</th>\n",
       "      <td>-1.880005</td>\n",
       "      <td>-1.808590</td>\n",
       "    </tr>\n",
       "    <tr>\n",
       "      <th>30</th>\n",
       "      <td>0.109986</td>\n",
       "      <td>-0.478283</td>\n",
       "    </tr>\n",
       "    <tr>\n",
       "      <th>31</th>\n",
       "      <td>-1.419998</td>\n",
       "      <td>-0.734374</td>\n",
       "    </tr>\n",
       "    <tr>\n",
       "      <th>32</th>\n",
       "      <td>-0.190002</td>\n",
       "      <td>-1.804174</td>\n",
       "    </tr>\n",
       "    <tr>\n",
       "      <th>33</th>\n",
       "      <td>3.220001</td>\n",
       "      <td>2.005301</td>\n",
       "    </tr>\n",
       "    <tr>\n",
       "      <th>34</th>\n",
       "      <td>-2.009995</td>\n",
       "      <td>-0.357798</td>\n",
       "    </tr>\n",
       "    <tr>\n",
       "      <th>35</th>\n",
       "      <td>-1.809998</td>\n",
       "      <td>-1.973062</td>\n",
       "    </tr>\n",
       "    <tr>\n",
       "      <th>36</th>\n",
       "      <td>2.580002</td>\n",
       "      <td>1.110833</td>\n",
       "    </tr>\n",
       "    <tr>\n",
       "      <th>37</th>\n",
       "      <td>3.490005</td>\n",
       "      <td>2.470545</td>\n",
       "    </tr>\n",
       "    <tr>\n",
       "      <th>38</th>\n",
       "      <td>-0.460006</td>\n",
       "      <td>-0.602102</td>\n",
       "    </tr>\n",
       "    <tr>\n",
       "      <th>39</th>\n",
       "      <td>-3.210007</td>\n",
       "      <td>-1.515130</td>\n",
       "    </tr>\n",
       "    <tr>\n",
       "      <th>40</th>\n",
       "      <td>-5.739991</td>\n",
       "      <td>-3.998925</td>\n",
       "    </tr>\n",
       "    <tr>\n",
       "      <th>41</th>\n",
       "      <td>2.649994</td>\n",
       "      <td>0.210550</td>\n",
       "    </tr>\n",
       "    <tr>\n",
       "      <th>42</th>\n",
       "      <td>0.520004</td>\n",
       "      <td>1.138501</td>\n",
       "    </tr>\n",
       "    <tr>\n",
       "      <th>43</th>\n",
       "      <td>-0.810012</td>\n",
       "      <td>-0.893896</td>\n",
       "    </tr>\n",
       "    <tr>\n",
       "      <th>44</th>\n",
       "      <td>1.910004</td>\n",
       "      <td>0.693603</td>\n",
       "    </tr>\n",
       "    <tr>\n",
       "      <th>45</th>\n",
       "      <td>2.000000</td>\n",
       "      <td>0.816013</td>\n",
       "    </tr>\n",
       "    <tr>\n",
       "      <th>46</th>\n",
       "      <td>-4.979996</td>\n",
       "      <td>-2.618783</td>\n",
       "    </tr>\n",
       "    <tr>\n",
       "      <th>47</th>\n",
       "      <td>-0.580002</td>\n",
       "      <td>0.093226</td>\n",
       "    </tr>\n",
       "    <tr>\n",
       "      <th>48</th>\n",
       "      <td>-0.960007</td>\n",
       "      <td>-0.119245</td>\n",
       "    </tr>\n",
       "    <tr>\n",
       "      <th>49</th>\n",
       "      <td>-1.789993</td>\n",
       "      <td>-2.568921</td>\n",
       "    </tr>\n",
       "    <tr>\n",
       "      <th>50</th>\n",
       "      <td>-3.220002</td>\n",
       "      <td>-1.933451</td>\n",
       "    </tr>\n",
       "  </tbody>\n",
       "</table>\n",
       "</div>"
      ],
      "text/plain": [
       "      Actual  Predicted\n",
       "0  -8.440002  -6.769225\n",
       "1   0.319992  -0.932834\n",
       "2   0.960006   0.498969\n",
       "3  -1.890000  -1.105775\n",
       "4   3.940002   3.288709\n",
       "5  -2.000000  -1.422119\n",
       "6   4.779999   3.438827\n",
       "7   2.729995   1.150218\n",
       "8  -0.400009   0.377564\n",
       "9   4.199997   2.619744\n",
       "10  0.669998   1.057040\n",
       "11  0.089997   0.531564\n",
       "12  3.380005   2.335870\n",
       "13  0.229996   0.079629\n",
       "14  3.529999   2.354574\n",
       "15  1.130005   1.593845\n",
       "16  4.970002   3.877613\n",
       "17  3.169998   2.470480\n",
       "18 -3.110001  -2.062775\n",
       "19 -1.100006  -0.568918\n",
       "20 -2.339996  -0.374129\n",
       "21 -0.270004  -0.817262\n",
       "22  2.990006   2.558373\n",
       "23 -1.539993  -0.325373\n",
       "24  1.319992   1.403188\n",
       "25  4.380005   3.118352\n",
       "26  5.690002   3.973572\n",
       "27  5.809998   4.387998\n",
       "28  2.380005   1.779247\n",
       "29 -1.880005  -1.808590\n",
       "30  0.109986  -0.478283\n",
       "31 -1.419998  -0.734374\n",
       "32 -0.190002  -1.804174\n",
       "33  3.220001   2.005301\n",
       "34 -2.009995  -0.357798\n",
       "35 -1.809998  -1.973062\n",
       "36  2.580002   1.110833\n",
       "37  3.490005   2.470545\n",
       "38 -0.460006  -0.602102\n",
       "39 -3.210007  -1.515130\n",
       "40 -5.739991  -3.998925\n",
       "41  2.649994   0.210550\n",
       "42  0.520004   1.138501\n",
       "43 -0.810012  -0.893896\n",
       "44  1.910004   0.693603\n",
       "45  2.000000   0.816013\n",
       "46 -4.979996  -2.618783\n",
       "47 -0.580002   0.093226\n",
       "48 -0.960007  -0.119245\n",
       "49 -1.789993  -2.568921\n",
       "50 -3.220002  -1.933451"
      ]
     },
     "execution_count": 131,
     "metadata": {},
     "output_type": "execute_result"
    }
   ],
   "source": [
    "df"
   ]
  },
  {
   "cell_type": "markdown",
   "metadata": {},
   "source": [
    "### Importing few extra packages for computing statistical metrics"
   ]
  },
  {
   "cell_type": "code",
   "execution_count": 28,
   "metadata": {},
   "outputs": [],
   "source": [
    "from sklearn.metrics import mean_squared_error, r2_score,adjusted_rand_score\n",
    "\n",
    "from math import sqrt"
   ]
  },
  {
   "cell_type": "markdown",
   "metadata": {},
   "source": [
    "### RMSE RootMeanSquareErroe"
   ]
  },
  {
   "cell_type": "code",
   "execution_count": 45,
   "metadata": {},
   "outputs": [
    {
     "data": {
      "text/plain": [
       "1.1479916377388228"
      ]
     },
     "execution_count": 45,
     "metadata": {},
     "output_type": "execute_result"
    }
   ],
   "source": [
    "rmse = sqrt(mean_squared_error(Y_test, y_pred))\n",
    "rmse"
   ]
  },
  {
   "cell_type": "markdown",
   "metadata": {},
   "source": [
    "### R^2 RSquare"
   ]
  },
  {
   "cell_type": "code",
   "execution_count": 30,
   "metadata": {},
   "outputs": [
    {
     "data": {
      "text/plain": [
       "0.8522099542753901"
      ]
     },
     "execution_count": 30,
     "metadata": {},
     "output_type": "execute_result"
    }
   ],
   "source": [
    "rsqr = r2_score(Y_test,y_pred)\n",
    "rsqr"
   ]
  },
  {
   "cell_type": "markdown",
   "metadata": {},
   "source": [
    "## Summary\n",
    "### The predicted Linear Regression model is 85.20% fit, with a RMSE of 1.14"
   ]
  }
 ],
 "metadata": {
  "kernelspec": {
   "display_name": "Python 3",
   "language": "python",
   "name": "python3"
  },
  "language_info": {
   "codemirror_mode": {
    "name": "ipython",
    "version": 3
   },
   "file_extension": ".py",
   "mimetype": "text/x-python",
   "name": "python",
   "nbconvert_exporter": "python",
   "pygments_lexer": "ipython3",
   "version": "3.6.5"
  }
 },
 "nbformat": 4,
 "nbformat_minor": 2
}
